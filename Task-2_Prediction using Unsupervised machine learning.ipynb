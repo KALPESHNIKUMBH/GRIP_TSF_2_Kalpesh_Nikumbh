{
 "cells": [
  {
   "cell_type": "markdown",
   "id": "f02a2e93",
   "metadata": {},
   "source": [
    "# The Sparks Foundation - Data Sciense & Business Analytics Internship"
   ]
  },
  {
   "cell_type": "markdown",
   "id": "8895a886",
   "metadata": {},
   "source": [
    "Auther - Kalpesh Sanjay Nikumbh"
   ]
  },
  {
   "cell_type": "markdown",
   "id": "5323c596",
   "metadata": {},
   "source": [
    "Batch - March 2022"
   ]
  },
  {
   "cell_type": "markdown",
   "id": "09366868",
   "metadata": {},
   "source": [
    "# Task 2 - Prediction using UnSupervised machine learning. "
   ]
  },
  {
   "cell_type": "markdown",
   "id": "99c3571d",
   "metadata": {},
   "source": [
    "K- Means Clustering"
   ]
  },
  {
   "cell_type": "markdown",
   "id": "1a009654",
   "metadata": {},
   "source": [
    "# Importing the libraries"
   ]
  },
  {
   "cell_type": "code",
   "execution_count": 51,
   "id": "b3da907b",
   "metadata": {},
   "outputs": [],
   "source": [
    "import numpy as np\n",
    "import matplotlib.pyplot as plt\n",
    "import pandas as pd"
   ]
  },
  {
   "cell_type": "markdown",
   "id": "22d2e185",
   "metadata": {},
   "source": [
    "# Importing the dataset"
   ]
  },
  {
   "cell_type": "code",
   "execution_count": 52,
   "id": "5bfe4777",
   "metadata": {},
   "outputs": [
    {
     "data": {
      "text/html": [
       "<div>\n",
       "<style scoped>\n",
       "    .dataframe tbody tr th:only-of-type {\n",
       "        vertical-align: middle;\n",
       "    }\n",
       "\n",
       "    .dataframe tbody tr th {\n",
       "        vertical-align: top;\n",
       "    }\n",
       "\n",
       "    .dataframe thead th {\n",
       "        text-align: right;\n",
       "    }\n",
       "</style>\n",
       "<table border=\"1\" class=\"dataframe\">\n",
       "  <thead>\n",
       "    <tr style=\"text-align: right;\">\n",
       "      <th></th>\n",
       "      <th>Id</th>\n",
       "      <th>SepalLengthCm</th>\n",
       "      <th>SepalWidthCm</th>\n",
       "      <th>PetalLengthCm</th>\n",
       "      <th>PetalWidthCm</th>\n",
       "      <th>Species</th>\n",
       "    </tr>\n",
       "  </thead>\n",
       "  <tbody>\n",
       "    <tr>\n",
       "      <th>0</th>\n",
       "      <td>1</td>\n",
       "      <td>5.1</td>\n",
       "      <td>3.5</td>\n",
       "      <td>1.4</td>\n",
       "      <td>0.2</td>\n",
       "      <td>Iris-setosa</td>\n",
       "    </tr>\n",
       "    <tr>\n",
       "      <th>1</th>\n",
       "      <td>2</td>\n",
       "      <td>4.9</td>\n",
       "      <td>3.0</td>\n",
       "      <td>1.4</td>\n",
       "      <td>0.2</td>\n",
       "      <td>Iris-setosa</td>\n",
       "    </tr>\n",
       "    <tr>\n",
       "      <th>2</th>\n",
       "      <td>3</td>\n",
       "      <td>4.7</td>\n",
       "      <td>3.2</td>\n",
       "      <td>1.3</td>\n",
       "      <td>0.2</td>\n",
       "      <td>Iris-setosa</td>\n",
       "    </tr>\n",
       "    <tr>\n",
       "      <th>3</th>\n",
       "      <td>4</td>\n",
       "      <td>4.6</td>\n",
       "      <td>3.1</td>\n",
       "      <td>1.5</td>\n",
       "      <td>0.2</td>\n",
       "      <td>Iris-setosa</td>\n",
       "    </tr>\n",
       "    <tr>\n",
       "      <th>4</th>\n",
       "      <td>5</td>\n",
       "      <td>5.0</td>\n",
       "      <td>3.6</td>\n",
       "      <td>1.4</td>\n",
       "      <td>0.2</td>\n",
       "      <td>Iris-setosa</td>\n",
       "    </tr>\n",
       "    <tr>\n",
       "      <th>...</th>\n",
       "      <td>...</td>\n",
       "      <td>...</td>\n",
       "      <td>...</td>\n",
       "      <td>...</td>\n",
       "      <td>...</td>\n",
       "      <td>...</td>\n",
       "    </tr>\n",
       "    <tr>\n",
       "      <th>145</th>\n",
       "      <td>146</td>\n",
       "      <td>6.7</td>\n",
       "      <td>3.0</td>\n",
       "      <td>5.2</td>\n",
       "      <td>2.3</td>\n",
       "      <td>Iris-virginica</td>\n",
       "    </tr>\n",
       "    <tr>\n",
       "      <th>146</th>\n",
       "      <td>147</td>\n",
       "      <td>6.3</td>\n",
       "      <td>2.5</td>\n",
       "      <td>5.0</td>\n",
       "      <td>1.9</td>\n",
       "      <td>Iris-virginica</td>\n",
       "    </tr>\n",
       "    <tr>\n",
       "      <th>147</th>\n",
       "      <td>148</td>\n",
       "      <td>6.5</td>\n",
       "      <td>3.0</td>\n",
       "      <td>5.2</td>\n",
       "      <td>2.0</td>\n",
       "      <td>Iris-virginica</td>\n",
       "    </tr>\n",
       "    <tr>\n",
       "      <th>148</th>\n",
       "      <td>149</td>\n",
       "      <td>6.2</td>\n",
       "      <td>3.4</td>\n",
       "      <td>5.4</td>\n",
       "      <td>2.3</td>\n",
       "      <td>Iris-virginica</td>\n",
       "    </tr>\n",
       "    <tr>\n",
       "      <th>149</th>\n",
       "      <td>150</td>\n",
       "      <td>5.9</td>\n",
       "      <td>3.0</td>\n",
       "      <td>5.1</td>\n",
       "      <td>1.8</td>\n",
       "      <td>Iris-virginica</td>\n",
       "    </tr>\n",
       "  </tbody>\n",
       "</table>\n",
       "<p>150 rows × 6 columns</p>\n",
       "</div>"
      ],
      "text/plain": [
       "      Id  SepalLengthCm  SepalWidthCm  PetalLengthCm  PetalWidthCm  \\\n",
       "0      1            5.1           3.5            1.4           0.2   \n",
       "1      2            4.9           3.0            1.4           0.2   \n",
       "2      3            4.7           3.2            1.3           0.2   \n",
       "3      4            4.6           3.1            1.5           0.2   \n",
       "4      5            5.0           3.6            1.4           0.2   \n",
       "..   ...            ...           ...            ...           ...   \n",
       "145  146            6.7           3.0            5.2           2.3   \n",
       "146  147            6.3           2.5            5.0           1.9   \n",
       "147  148            6.5           3.0            5.2           2.0   \n",
       "148  149            6.2           3.4            5.4           2.3   \n",
       "149  150            5.9           3.0            5.1           1.8   \n",
       "\n",
       "            Species  \n",
       "0       Iris-setosa  \n",
       "1       Iris-setosa  \n",
       "2       Iris-setosa  \n",
       "3       Iris-setosa  \n",
       "4       Iris-setosa  \n",
       "..              ...  \n",
       "145  Iris-virginica  \n",
       "146  Iris-virginica  \n",
       "147  Iris-virginica  \n",
       "148  Iris-virginica  \n",
       "149  Iris-virginica  \n",
       "\n",
       "[150 rows x 6 columns]"
      ]
     },
     "execution_count": 52,
     "metadata": {},
     "output_type": "execute_result"
    }
   ],
   "source": [
    "dataset = pd.read_csv('Iris.csv')\n",
    "dataset"
   ]
  },
  {
   "cell_type": "code",
   "execution_count": 53,
   "id": "83639f2f",
   "metadata": {},
   "outputs": [
    {
     "data": {
      "text/plain": [
       "array([[1.00e+00, 5.10e+00, 3.50e+00, 1.40e+00, 2.00e-01],\n",
       "       [2.00e+00, 4.90e+00, 3.00e+00, 1.40e+00, 2.00e-01],\n",
       "       [3.00e+00, 4.70e+00, 3.20e+00, 1.30e+00, 2.00e-01],\n",
       "       [4.00e+00, 4.60e+00, 3.10e+00, 1.50e+00, 2.00e-01],\n",
       "       [5.00e+00, 5.00e+00, 3.60e+00, 1.40e+00, 2.00e-01],\n",
       "       [6.00e+00, 5.40e+00, 3.90e+00, 1.70e+00, 4.00e-01],\n",
       "       [7.00e+00, 4.60e+00, 3.40e+00, 1.40e+00, 3.00e-01],\n",
       "       [8.00e+00, 5.00e+00, 3.40e+00, 1.50e+00, 2.00e-01],\n",
       "       [9.00e+00, 4.40e+00, 2.90e+00, 1.40e+00, 2.00e-01],\n",
       "       [1.00e+01, 4.90e+00, 3.10e+00, 1.50e+00, 1.00e-01],\n",
       "       [1.10e+01, 5.40e+00, 3.70e+00, 1.50e+00, 2.00e-01],\n",
       "       [1.20e+01, 4.80e+00, 3.40e+00, 1.60e+00, 2.00e-01],\n",
       "       [1.30e+01, 4.80e+00, 3.00e+00, 1.40e+00, 1.00e-01],\n",
       "       [1.40e+01, 4.30e+00, 3.00e+00, 1.10e+00, 1.00e-01],\n",
       "       [1.50e+01, 5.80e+00, 4.00e+00, 1.20e+00, 2.00e-01],\n",
       "       [1.60e+01, 5.70e+00, 4.40e+00, 1.50e+00, 4.00e-01],\n",
       "       [1.70e+01, 5.40e+00, 3.90e+00, 1.30e+00, 4.00e-01],\n",
       "       [1.80e+01, 5.10e+00, 3.50e+00, 1.40e+00, 3.00e-01],\n",
       "       [1.90e+01, 5.70e+00, 3.80e+00, 1.70e+00, 3.00e-01],\n",
       "       [2.00e+01, 5.10e+00, 3.80e+00, 1.50e+00, 3.00e-01],\n",
       "       [2.10e+01, 5.40e+00, 3.40e+00, 1.70e+00, 2.00e-01],\n",
       "       [2.20e+01, 5.10e+00, 3.70e+00, 1.50e+00, 4.00e-01],\n",
       "       [2.30e+01, 4.60e+00, 3.60e+00, 1.00e+00, 2.00e-01],\n",
       "       [2.40e+01, 5.10e+00, 3.30e+00, 1.70e+00, 5.00e-01],\n",
       "       [2.50e+01, 4.80e+00, 3.40e+00, 1.90e+00, 2.00e-01],\n",
       "       [2.60e+01, 5.00e+00, 3.00e+00, 1.60e+00, 2.00e-01],\n",
       "       [2.70e+01, 5.00e+00, 3.40e+00, 1.60e+00, 4.00e-01],\n",
       "       [2.80e+01, 5.20e+00, 3.50e+00, 1.50e+00, 2.00e-01],\n",
       "       [2.90e+01, 5.20e+00, 3.40e+00, 1.40e+00, 2.00e-01],\n",
       "       [3.00e+01, 4.70e+00, 3.20e+00, 1.60e+00, 2.00e-01],\n",
       "       [3.10e+01, 4.80e+00, 3.10e+00, 1.60e+00, 2.00e-01],\n",
       "       [3.20e+01, 5.40e+00, 3.40e+00, 1.50e+00, 4.00e-01],\n",
       "       [3.30e+01, 5.20e+00, 4.10e+00, 1.50e+00, 1.00e-01],\n",
       "       [3.40e+01, 5.50e+00, 4.20e+00, 1.40e+00, 2.00e-01],\n",
       "       [3.50e+01, 4.90e+00, 3.10e+00, 1.50e+00, 1.00e-01],\n",
       "       [3.60e+01, 5.00e+00, 3.20e+00, 1.20e+00, 2.00e-01],\n",
       "       [3.70e+01, 5.50e+00, 3.50e+00, 1.30e+00, 2.00e-01],\n",
       "       [3.80e+01, 4.90e+00, 3.10e+00, 1.50e+00, 1.00e-01],\n",
       "       [3.90e+01, 4.40e+00, 3.00e+00, 1.30e+00, 2.00e-01],\n",
       "       [4.00e+01, 5.10e+00, 3.40e+00, 1.50e+00, 2.00e-01],\n",
       "       [4.10e+01, 5.00e+00, 3.50e+00, 1.30e+00, 3.00e-01],\n",
       "       [4.20e+01, 4.50e+00, 2.30e+00, 1.30e+00, 3.00e-01],\n",
       "       [4.30e+01, 4.40e+00, 3.20e+00, 1.30e+00, 2.00e-01],\n",
       "       [4.40e+01, 5.00e+00, 3.50e+00, 1.60e+00, 6.00e-01],\n",
       "       [4.50e+01, 5.10e+00, 3.80e+00, 1.90e+00, 4.00e-01],\n",
       "       [4.60e+01, 4.80e+00, 3.00e+00, 1.40e+00, 3.00e-01],\n",
       "       [4.70e+01, 5.10e+00, 3.80e+00, 1.60e+00, 2.00e-01],\n",
       "       [4.80e+01, 4.60e+00, 3.20e+00, 1.40e+00, 2.00e-01],\n",
       "       [4.90e+01, 5.30e+00, 3.70e+00, 1.50e+00, 2.00e-01],\n",
       "       [5.00e+01, 5.00e+00, 3.30e+00, 1.40e+00, 2.00e-01],\n",
       "       [5.10e+01, 7.00e+00, 3.20e+00, 4.70e+00, 1.40e+00],\n",
       "       [5.20e+01, 6.40e+00, 3.20e+00, 4.50e+00, 1.50e+00],\n",
       "       [5.30e+01, 6.90e+00, 3.10e+00, 4.90e+00, 1.50e+00],\n",
       "       [5.40e+01, 5.50e+00, 2.30e+00, 4.00e+00, 1.30e+00],\n",
       "       [5.50e+01, 6.50e+00, 2.80e+00, 4.60e+00, 1.50e+00],\n",
       "       [5.60e+01, 5.70e+00, 2.80e+00, 4.50e+00, 1.30e+00],\n",
       "       [5.70e+01, 6.30e+00, 3.30e+00, 4.70e+00, 1.60e+00],\n",
       "       [5.80e+01, 4.90e+00, 2.40e+00, 3.30e+00, 1.00e+00],\n",
       "       [5.90e+01, 6.60e+00, 2.90e+00, 4.60e+00, 1.30e+00],\n",
       "       [6.00e+01, 5.20e+00, 2.70e+00, 3.90e+00, 1.40e+00],\n",
       "       [6.10e+01, 5.00e+00, 2.00e+00, 3.50e+00, 1.00e+00],\n",
       "       [6.20e+01, 5.90e+00, 3.00e+00, 4.20e+00, 1.50e+00],\n",
       "       [6.30e+01, 6.00e+00, 2.20e+00, 4.00e+00, 1.00e+00],\n",
       "       [6.40e+01, 6.10e+00, 2.90e+00, 4.70e+00, 1.40e+00],\n",
       "       [6.50e+01, 5.60e+00, 2.90e+00, 3.60e+00, 1.30e+00],\n",
       "       [6.60e+01, 6.70e+00, 3.10e+00, 4.40e+00, 1.40e+00],\n",
       "       [6.70e+01, 5.60e+00, 3.00e+00, 4.50e+00, 1.50e+00],\n",
       "       [6.80e+01, 5.80e+00, 2.70e+00, 4.10e+00, 1.00e+00],\n",
       "       [6.90e+01, 6.20e+00, 2.20e+00, 4.50e+00, 1.50e+00],\n",
       "       [7.00e+01, 5.60e+00, 2.50e+00, 3.90e+00, 1.10e+00],\n",
       "       [7.10e+01, 5.90e+00, 3.20e+00, 4.80e+00, 1.80e+00],\n",
       "       [7.20e+01, 6.10e+00, 2.80e+00, 4.00e+00, 1.30e+00],\n",
       "       [7.30e+01, 6.30e+00, 2.50e+00, 4.90e+00, 1.50e+00],\n",
       "       [7.40e+01, 6.10e+00, 2.80e+00, 4.70e+00, 1.20e+00],\n",
       "       [7.50e+01, 6.40e+00, 2.90e+00, 4.30e+00, 1.30e+00],\n",
       "       [7.60e+01, 6.60e+00, 3.00e+00, 4.40e+00, 1.40e+00],\n",
       "       [7.70e+01, 6.80e+00, 2.80e+00, 4.80e+00, 1.40e+00],\n",
       "       [7.80e+01, 6.70e+00, 3.00e+00, 5.00e+00, 1.70e+00],\n",
       "       [7.90e+01, 6.00e+00, 2.90e+00, 4.50e+00, 1.50e+00],\n",
       "       [8.00e+01, 5.70e+00, 2.60e+00, 3.50e+00, 1.00e+00],\n",
       "       [8.10e+01, 5.50e+00, 2.40e+00, 3.80e+00, 1.10e+00],\n",
       "       [8.20e+01, 5.50e+00, 2.40e+00, 3.70e+00, 1.00e+00],\n",
       "       [8.30e+01, 5.80e+00, 2.70e+00, 3.90e+00, 1.20e+00],\n",
       "       [8.40e+01, 6.00e+00, 2.70e+00, 5.10e+00, 1.60e+00],\n",
       "       [8.50e+01, 5.40e+00, 3.00e+00, 4.50e+00, 1.50e+00],\n",
       "       [8.60e+01, 6.00e+00, 3.40e+00, 4.50e+00, 1.60e+00],\n",
       "       [8.70e+01, 6.70e+00, 3.10e+00, 4.70e+00, 1.50e+00],\n",
       "       [8.80e+01, 6.30e+00, 2.30e+00, 4.40e+00, 1.30e+00],\n",
       "       [8.90e+01, 5.60e+00, 3.00e+00, 4.10e+00, 1.30e+00],\n",
       "       [9.00e+01, 5.50e+00, 2.50e+00, 4.00e+00, 1.30e+00],\n",
       "       [9.10e+01, 5.50e+00, 2.60e+00, 4.40e+00, 1.20e+00],\n",
       "       [9.20e+01, 6.10e+00, 3.00e+00, 4.60e+00, 1.40e+00],\n",
       "       [9.30e+01, 5.80e+00, 2.60e+00, 4.00e+00, 1.20e+00],\n",
       "       [9.40e+01, 5.00e+00, 2.30e+00, 3.30e+00, 1.00e+00],\n",
       "       [9.50e+01, 5.60e+00, 2.70e+00, 4.20e+00, 1.30e+00],\n",
       "       [9.60e+01, 5.70e+00, 3.00e+00, 4.20e+00, 1.20e+00],\n",
       "       [9.70e+01, 5.70e+00, 2.90e+00, 4.20e+00, 1.30e+00],\n",
       "       [9.80e+01, 6.20e+00, 2.90e+00, 4.30e+00, 1.30e+00],\n",
       "       [9.90e+01, 5.10e+00, 2.50e+00, 3.00e+00, 1.10e+00],\n",
       "       [1.00e+02, 5.70e+00, 2.80e+00, 4.10e+00, 1.30e+00],\n",
       "       [1.01e+02, 6.30e+00, 3.30e+00, 6.00e+00, 2.50e+00],\n",
       "       [1.02e+02, 5.80e+00, 2.70e+00, 5.10e+00, 1.90e+00],\n",
       "       [1.03e+02, 7.10e+00, 3.00e+00, 5.90e+00, 2.10e+00],\n",
       "       [1.04e+02, 6.30e+00, 2.90e+00, 5.60e+00, 1.80e+00],\n",
       "       [1.05e+02, 6.50e+00, 3.00e+00, 5.80e+00, 2.20e+00],\n",
       "       [1.06e+02, 7.60e+00, 3.00e+00, 6.60e+00, 2.10e+00],\n",
       "       [1.07e+02, 4.90e+00, 2.50e+00, 4.50e+00, 1.70e+00],\n",
       "       [1.08e+02, 7.30e+00, 2.90e+00, 6.30e+00, 1.80e+00],\n",
       "       [1.09e+02, 6.70e+00, 2.50e+00, 5.80e+00, 1.80e+00],\n",
       "       [1.10e+02, 7.20e+00, 3.60e+00, 6.10e+00, 2.50e+00],\n",
       "       [1.11e+02, 6.50e+00, 3.20e+00, 5.10e+00, 2.00e+00],\n",
       "       [1.12e+02, 6.40e+00, 2.70e+00, 5.30e+00, 1.90e+00],\n",
       "       [1.13e+02, 6.80e+00, 3.00e+00, 5.50e+00, 2.10e+00],\n",
       "       [1.14e+02, 5.70e+00, 2.50e+00, 5.00e+00, 2.00e+00],\n",
       "       [1.15e+02, 5.80e+00, 2.80e+00, 5.10e+00, 2.40e+00],\n",
       "       [1.16e+02, 6.40e+00, 3.20e+00, 5.30e+00, 2.30e+00],\n",
       "       [1.17e+02, 6.50e+00, 3.00e+00, 5.50e+00, 1.80e+00],\n",
       "       [1.18e+02, 7.70e+00, 3.80e+00, 6.70e+00, 2.20e+00],\n",
       "       [1.19e+02, 7.70e+00, 2.60e+00, 6.90e+00, 2.30e+00],\n",
       "       [1.20e+02, 6.00e+00, 2.20e+00, 5.00e+00, 1.50e+00],\n",
       "       [1.21e+02, 6.90e+00, 3.20e+00, 5.70e+00, 2.30e+00],\n",
       "       [1.22e+02, 5.60e+00, 2.80e+00, 4.90e+00, 2.00e+00],\n",
       "       [1.23e+02, 7.70e+00, 2.80e+00, 6.70e+00, 2.00e+00],\n",
       "       [1.24e+02, 6.30e+00, 2.70e+00, 4.90e+00, 1.80e+00],\n",
       "       [1.25e+02, 6.70e+00, 3.30e+00, 5.70e+00, 2.10e+00],\n",
       "       [1.26e+02, 7.20e+00, 3.20e+00, 6.00e+00, 1.80e+00],\n",
       "       [1.27e+02, 6.20e+00, 2.80e+00, 4.80e+00, 1.80e+00],\n",
       "       [1.28e+02, 6.10e+00, 3.00e+00, 4.90e+00, 1.80e+00],\n",
       "       [1.29e+02, 6.40e+00, 2.80e+00, 5.60e+00, 2.10e+00],\n",
       "       [1.30e+02, 7.20e+00, 3.00e+00, 5.80e+00, 1.60e+00],\n",
       "       [1.31e+02, 7.40e+00, 2.80e+00, 6.10e+00, 1.90e+00],\n",
       "       [1.32e+02, 7.90e+00, 3.80e+00, 6.40e+00, 2.00e+00],\n",
       "       [1.33e+02, 6.40e+00, 2.80e+00, 5.60e+00, 2.20e+00],\n",
       "       [1.34e+02, 6.30e+00, 2.80e+00, 5.10e+00, 1.50e+00],\n",
       "       [1.35e+02, 6.10e+00, 2.60e+00, 5.60e+00, 1.40e+00],\n",
       "       [1.36e+02, 7.70e+00, 3.00e+00, 6.10e+00, 2.30e+00],\n",
       "       [1.37e+02, 6.30e+00, 3.40e+00, 5.60e+00, 2.40e+00],\n",
       "       [1.38e+02, 6.40e+00, 3.10e+00, 5.50e+00, 1.80e+00],\n",
       "       [1.39e+02, 6.00e+00, 3.00e+00, 4.80e+00, 1.80e+00],\n",
       "       [1.40e+02, 6.90e+00, 3.10e+00, 5.40e+00, 2.10e+00],\n",
       "       [1.41e+02, 6.70e+00, 3.10e+00, 5.60e+00, 2.40e+00],\n",
       "       [1.42e+02, 6.90e+00, 3.10e+00, 5.10e+00, 2.30e+00],\n",
       "       [1.43e+02, 5.80e+00, 2.70e+00, 5.10e+00, 1.90e+00],\n",
       "       [1.44e+02, 6.80e+00, 3.20e+00, 5.90e+00, 2.30e+00],\n",
       "       [1.45e+02, 6.70e+00, 3.30e+00, 5.70e+00, 2.50e+00],\n",
       "       [1.46e+02, 6.70e+00, 3.00e+00, 5.20e+00, 2.30e+00],\n",
       "       [1.47e+02, 6.30e+00, 2.50e+00, 5.00e+00, 1.90e+00],\n",
       "       [1.48e+02, 6.50e+00, 3.00e+00, 5.20e+00, 2.00e+00],\n",
       "       [1.49e+02, 6.20e+00, 3.40e+00, 5.40e+00, 2.30e+00],\n",
       "       [1.50e+02, 5.90e+00, 3.00e+00, 5.10e+00, 1.80e+00]])"
      ]
     },
     "execution_count": 53,
     "metadata": {},
     "output_type": "execute_result"
    }
   ],
   "source": [
    "x = dataset.iloc[:, [0, 1, 2, 3,4]].values\n",
    "x"
   ]
  },
  {
   "cell_type": "code",
   "execution_count": 54,
   "id": "cf603675",
   "metadata": {
    "scrolled": false
   },
   "outputs": [
    {
     "data": {
      "text/plain": [
       "array([[5.1, 3.5, 1.4, 0.2],\n",
       "       [4.9, 3. , 1.4, 0.2],\n",
       "       [4.7, 3.2, 1.3, 0.2],\n",
       "       [4.6, 3.1, 1.5, 0.2],\n",
       "       [5. , 3.6, 1.4, 0.2],\n",
       "       [5.4, 3.9, 1.7, 0.4],\n",
       "       [4.6, 3.4, 1.4, 0.3],\n",
       "       [5. , 3.4, 1.5, 0.2],\n",
       "       [4.4, 2.9, 1.4, 0.2],\n",
       "       [4.9, 3.1, 1.5, 0.1],\n",
       "       [5.4, 3.7, 1.5, 0.2],\n",
       "       [4.8, 3.4, 1.6, 0.2],\n",
       "       [4.8, 3. , 1.4, 0.1],\n",
       "       [4.3, 3. , 1.1, 0.1],\n",
       "       [5.8, 4. , 1.2, 0.2],\n",
       "       [5.7, 4.4, 1.5, 0.4],\n",
       "       [5.4, 3.9, 1.3, 0.4],\n",
       "       [5.1, 3.5, 1.4, 0.3],\n",
       "       [5.7, 3.8, 1.7, 0.3],\n",
       "       [5.1, 3.8, 1.5, 0.3],\n",
       "       [5.4, 3.4, 1.7, 0.2],\n",
       "       [5.1, 3.7, 1.5, 0.4],\n",
       "       [4.6, 3.6, 1. , 0.2],\n",
       "       [5.1, 3.3, 1.7, 0.5],\n",
       "       [4.8, 3.4, 1.9, 0.2],\n",
       "       [5. , 3. , 1.6, 0.2],\n",
       "       [5. , 3.4, 1.6, 0.4],\n",
       "       [5.2, 3.5, 1.5, 0.2],\n",
       "       [5.2, 3.4, 1.4, 0.2],\n",
       "       [4.7, 3.2, 1.6, 0.2],\n",
       "       [4.8, 3.1, 1.6, 0.2],\n",
       "       [5.4, 3.4, 1.5, 0.4],\n",
       "       [5.2, 4.1, 1.5, 0.1],\n",
       "       [5.5, 4.2, 1.4, 0.2],\n",
       "       [4.9, 3.1, 1.5, 0.1],\n",
       "       [5. , 3.2, 1.2, 0.2],\n",
       "       [5.5, 3.5, 1.3, 0.2],\n",
       "       [4.9, 3.1, 1.5, 0.1],\n",
       "       [4.4, 3. , 1.3, 0.2],\n",
       "       [5.1, 3.4, 1.5, 0.2],\n",
       "       [5. , 3.5, 1.3, 0.3],\n",
       "       [4.5, 2.3, 1.3, 0.3],\n",
       "       [4.4, 3.2, 1.3, 0.2],\n",
       "       [5. , 3.5, 1.6, 0.6],\n",
       "       [5.1, 3.8, 1.9, 0.4],\n",
       "       [4.8, 3. , 1.4, 0.3],\n",
       "       [5.1, 3.8, 1.6, 0.2],\n",
       "       [4.6, 3.2, 1.4, 0.2],\n",
       "       [5.3, 3.7, 1.5, 0.2],\n",
       "       [5. , 3.3, 1.4, 0.2],\n",
       "       [7. , 3.2, 4.7, 1.4],\n",
       "       [6.4, 3.2, 4.5, 1.5],\n",
       "       [6.9, 3.1, 4.9, 1.5],\n",
       "       [5.5, 2.3, 4. , 1.3],\n",
       "       [6.5, 2.8, 4.6, 1.5],\n",
       "       [5.7, 2.8, 4.5, 1.3],\n",
       "       [6.3, 3.3, 4.7, 1.6],\n",
       "       [4.9, 2.4, 3.3, 1. ],\n",
       "       [6.6, 2.9, 4.6, 1.3],\n",
       "       [5.2, 2.7, 3.9, 1.4],\n",
       "       [5. , 2. , 3.5, 1. ],\n",
       "       [5.9, 3. , 4.2, 1.5],\n",
       "       [6. , 2.2, 4. , 1. ],\n",
       "       [6.1, 2.9, 4.7, 1.4],\n",
       "       [5.6, 2.9, 3.6, 1.3],\n",
       "       [6.7, 3.1, 4.4, 1.4],\n",
       "       [5.6, 3. , 4.5, 1.5],\n",
       "       [5.8, 2.7, 4.1, 1. ],\n",
       "       [6.2, 2.2, 4.5, 1.5],\n",
       "       [5.6, 2.5, 3.9, 1.1],\n",
       "       [5.9, 3.2, 4.8, 1.8],\n",
       "       [6.1, 2.8, 4. , 1.3],\n",
       "       [6.3, 2.5, 4.9, 1.5],\n",
       "       [6.1, 2.8, 4.7, 1.2],\n",
       "       [6.4, 2.9, 4.3, 1.3],\n",
       "       [6.6, 3. , 4.4, 1.4],\n",
       "       [6.8, 2.8, 4.8, 1.4],\n",
       "       [6.7, 3. , 5. , 1.7],\n",
       "       [6. , 2.9, 4.5, 1.5],\n",
       "       [5.7, 2.6, 3.5, 1. ],\n",
       "       [5.5, 2.4, 3.8, 1.1],\n",
       "       [5.5, 2.4, 3.7, 1. ],\n",
       "       [5.8, 2.7, 3.9, 1.2],\n",
       "       [6. , 2.7, 5.1, 1.6],\n",
       "       [5.4, 3. , 4.5, 1.5],\n",
       "       [6. , 3.4, 4.5, 1.6],\n",
       "       [6.7, 3.1, 4.7, 1.5],\n",
       "       [6.3, 2.3, 4.4, 1.3],\n",
       "       [5.6, 3. , 4.1, 1.3],\n",
       "       [5.5, 2.5, 4. , 1.3],\n",
       "       [5.5, 2.6, 4.4, 1.2],\n",
       "       [6.1, 3. , 4.6, 1.4],\n",
       "       [5.8, 2.6, 4. , 1.2],\n",
       "       [5. , 2.3, 3.3, 1. ],\n",
       "       [5.6, 2.7, 4.2, 1.3],\n",
       "       [5.7, 3. , 4.2, 1.2],\n",
       "       [5.7, 2.9, 4.2, 1.3],\n",
       "       [6.2, 2.9, 4.3, 1.3],\n",
       "       [5.1, 2.5, 3. , 1.1],\n",
       "       [5.7, 2.8, 4.1, 1.3],\n",
       "       [6.3, 3.3, 6. , 2.5],\n",
       "       [5.8, 2.7, 5.1, 1.9],\n",
       "       [7.1, 3. , 5.9, 2.1],\n",
       "       [6.3, 2.9, 5.6, 1.8],\n",
       "       [6.5, 3. , 5.8, 2.2],\n",
       "       [7.6, 3. , 6.6, 2.1],\n",
       "       [4.9, 2.5, 4.5, 1.7],\n",
       "       [7.3, 2.9, 6.3, 1.8],\n",
       "       [6.7, 2.5, 5.8, 1.8],\n",
       "       [7.2, 3.6, 6.1, 2.5],\n",
       "       [6.5, 3.2, 5.1, 2. ],\n",
       "       [6.4, 2.7, 5.3, 1.9],\n",
       "       [6.8, 3. , 5.5, 2.1],\n",
       "       [5.7, 2.5, 5. , 2. ],\n",
       "       [5.8, 2.8, 5.1, 2.4],\n",
       "       [6.4, 3.2, 5.3, 2.3],\n",
       "       [6.5, 3. , 5.5, 1.8],\n",
       "       [7.7, 3.8, 6.7, 2.2],\n",
       "       [7.7, 2.6, 6.9, 2.3],\n",
       "       [6. , 2.2, 5. , 1.5],\n",
       "       [6.9, 3.2, 5.7, 2.3],\n",
       "       [5.6, 2.8, 4.9, 2. ],\n",
       "       [7.7, 2.8, 6.7, 2. ],\n",
       "       [6.3, 2.7, 4.9, 1.8],\n",
       "       [6.7, 3.3, 5.7, 2.1],\n",
       "       [7.2, 3.2, 6. , 1.8],\n",
       "       [6.2, 2.8, 4.8, 1.8],\n",
       "       [6.1, 3. , 4.9, 1.8],\n",
       "       [6.4, 2.8, 5.6, 2.1],\n",
       "       [7.2, 3. , 5.8, 1.6],\n",
       "       [7.4, 2.8, 6.1, 1.9],\n",
       "       [7.9, 3.8, 6.4, 2. ],\n",
       "       [6.4, 2.8, 5.6, 2.2],\n",
       "       [6.3, 2.8, 5.1, 1.5],\n",
       "       [6.1, 2.6, 5.6, 1.4],\n",
       "       [7.7, 3. , 6.1, 2.3],\n",
       "       [6.3, 3.4, 5.6, 2.4],\n",
       "       [6.4, 3.1, 5.5, 1.8],\n",
       "       [6. , 3. , 4.8, 1.8],\n",
       "       [6.9, 3.1, 5.4, 2.1],\n",
       "       [6.7, 3.1, 5.6, 2.4],\n",
       "       [6.9, 3.1, 5.1, 2.3],\n",
       "       [5.8, 2.7, 5.1, 1.9],\n",
       "       [6.8, 3.2, 5.9, 2.3],\n",
       "       [6.7, 3.3, 5.7, 2.5],\n",
       "       [6.7, 3. , 5.2, 2.3],\n",
       "       [6.3, 2.5, 5. , 1.9],\n",
       "       [6.5, 3. , 5.2, 2. ],\n",
       "       [6.2, 3.4, 5.4, 2.3],\n",
       "       [5.9, 3. , 5.1, 1.8]])"
      ]
     },
     "execution_count": 54,
     "metadata": {},
     "output_type": "execute_result"
    }
   ],
   "source": [
    "X = dataset.iloc[:,1:-1].values\n",
    "X"
   ]
  },
  {
   "cell_type": "markdown",
   "id": "9be97e63",
   "metadata": {},
   "source": [
    "# Using the elbow method to find the optimal number of clusters for k-mean classification"
   ]
  },
  {
   "cell_type": "code",
   "execution_count": null,
   "id": "1f14b8fe",
   "metadata": {},
   "outputs": [],
   "source": []
  },
  {
   "cell_type": "code",
   "execution_count": 55,
   "id": "309841d3",
   "metadata": {},
   "outputs": [
    {
     "name": "stderr",
     "output_type": "stream",
     "text": [
      "C:\\Users\\admin\\anaconda3\\lib\\site-packages\\sklearn\\cluster\\_kmeans.py:881: UserWarning: KMeans is known to have a memory leak on Windows with MKL, when there are less chunks than available threads. You can avoid it by setting the environment variable OMP_NUM_THREADS=1.\n",
      "  warnings.warn(\n"
     ]
    }
   ],
   "source": [
    "from sklearn.cluster import KMeans\n",
    "wcss = []\n",
    "for i in range(1,11):\n",
    "  kmeans = KMeans(n_clusters = i,init='k-means++', random_state = 42)\n",
    "  kmeans.fit(X)\n",
    "  wcss.append(kmeans.inertia_)"
   ]
  },
  {
   "cell_type": "code",
   "execution_count": 56,
   "id": "d921f388",
   "metadata": {},
   "outputs": [
    {
     "data": {
      "image/png": "[encoded data removed]",
      "text/plain": [
       "<Figure size 432x288 with 1 Axes>"
      ]
     },
     "metadata": {
      "needs_background": "light"
     },
     "output_type": "display_data"
    }
   ],
   "source": [
    "\n",
    "plt.plot(range(1,11), wcss)\n",
    "plt.title('The elbow method')\n",
    "plt.xlabel('Number of clusters')\n",
    "plt.ylabel('WCSS')\n",
    "plt.show()"
   ]
  },
  {
   "cell_type": "markdown",
   "id": "f28a2cb8",
   "metadata": {},
   "source": [
    "From the above graph we can see that the optimal number of clusters is 3"
   ]
  },
  {
   "cell_type": "markdown",
   "id": "f3618f11",
   "metadata": {},
   "source": [
    "# Creating the kmeans classifier"
   ]
  },
  {
   "cell_type": "code",
   "execution_count": 57,
   "id": "7447b19b",
   "metadata": {},
   "outputs": [],
   "source": [
    "kmeans = KMeans(n_clusters = 3,init='k-means++',random_state = 42)\n",
    "y_kmeans = kmeans.fit_predict(X)"
   ]
  },
  {
   "cell_type": "code",
   "execution_count": 58,
   "id": "ea52d20f",
   "metadata": {
    "scrolled": true
   },
   "outputs": [
    {
     "name": "stdout",
     "output_type": "stream",
     "text": [
      "[1 1 1 1 1 1 1 1 1 1 1 1 1 1 1 1 1 1 1 1 1 1 1 1 1 1 1 1 1 1 1 1 1 1 1 1 1\n",
      " 1 1 1 1 1 1 1 1 1 1 1 1 1 0 0 2 0 0 0 0 0 0 0 0 0 0 0 0 0 0 0 0 0 0 0 0 0\n",
      " 0 0 0 2 0 0 0 0 0 0 0 0 0 0 0 0 0 0 0 0 0 0 0 0 0 0 2 0 2 2 2 2 0 2 2 2 2\n",
      " 2 2 0 0 2 2 2 2 0 2 0 2 0 2 2 0 0 2 2 2 2 2 0 2 2 2 2 0 2 2 2 0 2 2 2 0 2\n",
      " 2 0]\n"
     ]
    }
   ],
   "source": [
    "print(y_kmeans)"
   ]
  },
  {
   "cell_type": "markdown",
   "id": "5ccee484",
   "metadata": {},
   "source": [
    "# Visualising the clusters"
   ]
  },
  {
   "cell_type": "code",
   "execution_count": 59,
   "id": "4397b80e",
   "metadata": {},
   "outputs": [
    {
     "data": {
      "image/png": "[encoded data removed]",
      "text/plain": [
       "<Figure size 432x288 with 1 Axes>"
      ]
     },
     "metadata": {
      "needs_background": "light"
     },
     "output_type": "display_data"
    }
   ],
   "source": [
    "plt.scatter(X[y_kmeans == 0,0], X[y_kmeans == 0,1], s=70, c='black', label='Iris-setosa')\n",
    "plt.scatter(X[y_kmeans == 1,0], X[y_kmeans == 1,1], s=70, c='yellow', label='Iris-versicolour')\n",
    "plt.scatter(X[y_kmeans == 2,0], X[y_kmeans == 2,1], s=70, c='blue', label='Iris-virginica')\n",
    "plt.scatter(kmeans.cluster_centers_[:,0],kmeans.cluster_centers_[:,1], s=150, c='red', label='Centroids')\n",
    "plt.title('Clusters of Iris dataset')\n",
    "plt.xlabel('Sepal length(in cm)')\n",
    "plt.ylabel('Sepal width(in cm)')\n",
    "plt.legend()\n",
    "plt.show()"
   ]
  },
  {
   "cell_type": "code",
   "execution_count": null,
   "id": "a46119ad",
   "metadata": {},
   "outputs": [],
   "source": []
  },
  {
   "cell_type": "code",
   "execution_count": null,
   "id": "d73d2731",
   "metadata": {},
   "outputs": [],
   "source": []
  },
  {
   "cell_type": "code",
   "execution_count": null,
   "id": "a13a86ce",
   "metadata": {},
   "outputs": [],
   "source": []
  }
 ],
 "metadata": {
  "kernelspec": {
   "display_name": "Python 3",
   "language": "python",
   "name": "python3"
  },
  "language_info": {
   "codemirror_mode": {
    "name": "ipython",
    "version": 3
   },
   "file_extension": ".py",
   "mimetype": "text/x-python",
   "name": "python",
   "nbconvert_exporter": "python",
   "pygments_lexer": "ipython3",
   "version": "3.8.8"
  }
 },
 "nbformat": 4,
 "nbformat_minor": 5
}
